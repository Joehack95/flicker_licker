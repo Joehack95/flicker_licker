{
 "cells": [
  {
   "cell_type": "markdown",
   "id": "814814d8",
   "metadata": {
    "heading_collapsed": true
   },
   "source": [
    "# Installs"
   ]
  },
  {
   "cell_type": "code",
   "execution_count": 22,
   "id": "bffeabe8",
   "metadata": {
    "hidden": true
   },
   "outputs": [
    {
     "name": "stdout",
     "output_type": "stream",
     "text": [
      "Collecting xlrd\n",
      "  Downloading xlrd-2.0.1-py2.py3-none-any.whl (96 kB)\n",
      "\u001b[2K     \u001b[90m━━━━━━━━━━━━━━━━━━━━━━━━━━━━━━━━━━━━━━━━\u001b[0m \u001b[32m96.5/96.5 kB\u001b[0m \u001b[31m2.2 MB/s\u001b[0m eta \u001b[36m0:00:00\u001b[0ma \u001b[36m0:00:01\u001b[0m\n",
      "\u001b[?25hInstalling collected packages: xlrd\n",
      "Successfully installed xlrd-2.0.1\n"
     ]
    }
   ],
   "source": [
    "!pip install xlrd"
   ]
  },
  {
   "cell_type": "code",
   "execution_count": 106,
   "id": "0ce9ab23",
   "metadata": {
    "hidden": true
   },
   "outputs": [
    {
     "name": "stdout",
     "output_type": "stream",
     "text": [
      "Collecting us\n",
      "  Downloading us-3.1.1.tar.gz (14 kB)\n",
      "  Preparing metadata (setup.py) ... \u001b[?25ldone\n",
      "\u001b[?25hCollecting jellyfish==0.11.2\n",
      "  Downloading jellyfish-0.11.2-cp39-cp39-macosx_10_7_x86_64.whl (328 kB)\n",
      "\u001b[2K     \u001b[90m━━━━━━━━━━━━━━━━━━━━━━━━━━━━━━━━━━━━━━━\u001b[0m \u001b[32m329.0/329.0 kB\u001b[0m \u001b[31m3.7 MB/s\u001b[0m eta \u001b[36m0:00:00\u001b[0ma \u001b[36m0:00:01\u001b[0m\n",
      "\u001b[?25hBuilding wheels for collected packages: us\n",
      "  Building wheel for us (setup.py) ... \u001b[?25ldone\n",
      "\u001b[?25h  Created wheel for us: filename=us-3.1.1-py3-none-any.whl size=12550 sha256=c78672257e7a09dbbe1235f219294dd2b549f0e0969a1bfd5bc50720322c4230\n",
      "  Stored in directory: /Users/joehack/Library/Caches/pip/wheels/29/9e/92/3672525fc19ac574d668402d739c8e8ff4650012304d2f3f06\n",
      "Successfully built us\n",
      "Installing collected packages: jellyfish, us\n",
      "  Attempting uninstall: jellyfish\n",
      "    Found existing installation: jellyfish 0.9.0\n",
      "    Uninstalling jellyfish-0.9.0:\n",
      "      Successfully uninstalled jellyfish-0.9.0\n",
      "\u001b[31mERROR: pip's dependency resolver does not currently take into account all the packages that are installed. This behaviour is the source of the following dependency conflicts.\n",
      "spyder 5.4.3 requires pyqt5<5.16, which is not installed.\n",
      "spyder 5.4.3 requires pyqtwebengine<5.16, which is not installed.\u001b[0m\u001b[31m\n",
      "\u001b[0mSuccessfully installed jellyfish-0.11.2 us-3.1.1\n"
     ]
    }
   ],
   "source": [
    "!pip install us"
   ]
  },
  {
   "cell_type": "code",
   "execution_count": 55,
   "id": "3a3f6a3f",
   "metadata": {
    "hidden": true
   },
   "outputs": [
    {
     "name": "stdout",
     "output_type": "stream",
     "text": [
      "Collecting pycountry\n",
      "  Downloading pycountry-23.12.11-py3-none-any.whl (6.2 MB)\n",
      "\u001b[2K     \u001b[90m━━━━━━━━━━━━━━━━━━━━━━━━━━━━━━━━━━━━━━━━\u001b[0m \u001b[32m6.2/6.2 MB\u001b[0m \u001b[31m3.7 MB/s\u001b[0m eta \u001b[36m0:00:00\u001b[0m00:01\u001b[0m00:01\u001b[0m\n",
      "\u001b[?25hInstalling collected packages: pycountry\n",
      "Successfully installed pycountry-23.12.11\n"
     ]
    }
   ],
   "source": [
    "!pip install pycountry"
   ]
  },
  {
   "cell_type": "markdown",
   "id": "1eaa536c",
   "metadata": {
    "heading_collapsed": true
   },
   "source": [
    "# Imports"
   ]
  },
  {
   "cell_type": "code",
   "execution_count": 1,
   "id": "85fdcea7",
   "metadata": {
    "hidden": true
   },
   "outputs": [],
   "source": [
    "import pandas as pd\n",
    "import numpy as np\n",
    "import us\n",
    "import pycountry"
   ]
  },
  {
   "cell_type": "markdown",
   "id": "bf2e81f5",
   "metadata": {
    "heading_collapsed": true
   },
   "source": [
    "# Functions"
   ]
  },
  {
   "cell_type": "code",
   "execution_count": 25,
   "id": "b9515f03",
   "metadata": {
    "hidden": true
   },
   "outputs": [],
   "source": [
    "# Environmental Variables:\n",
    "checklist_sample = pd.read_excel(\"ebird_checklist_format_sample.xls\")\n",
    "\n",
    "# get row names:\n",
    "row_names = checklist_sample['Unnamed: 0'][:13]\n",
    "\n",
    "# instantiate default values for row metadata as dict:\n",
    "default_metadata = {'Latitude': 'NaN',\n",
    "                    'Longitude': 'NaN',\n",
    "                    'Date': '05/09/1995',\n",
    "                    'Start Time': '00:00:00',\n",
    "                    'State': 'NaN',\n",
    "                    'Country': None,\n",
    "                    'Protocol': 'Historical',\n",
    "                    'Num Observers': 1,\n",
    "                    'Duration (min)': 'NaN',\n",
    "                    'All Obs Reported (Y/N)': 'Y',\n",
    "                    'Dist Traveled (Miles)': 'NaN',\n",
    "                    'Area Covered (Acres)': 'NaN',\n",
    "                    'Notes': 'Pre-eBird Life List.'}\n",
    "\n",
    "\n",
    "# main function:\n",
    "def make_ebird_xlist(df, species_col_name='CommonName', spatial_scale_col_name='Country'):\n",
    "\n",
    "    # Isolate species sitings for each country and store in dict:\n",
    "    sitings_by_region = split_observations_by_region(df, species_col_name, spatial_scale_col_name)\n",
    "        \n",
    "    # Make a list of checklists (pd.series) one for each country:\n",
    "    xlists_by_region = make_regional_xlists(df, sitings_by_region, spatial_scale_col_name, species_col_name)\n",
    "\n",
    "    # concatenate checklists together:\n",
    "    ebird_checklist = pd.concat(xlists_by_region, axis=1)\n",
    "\n",
    "    # replace NaN's in bird observations with '':\n",
    "    ebird_checklist[''] = ''\n",
    "    ebird_checklist.iloc[13:,:] = ebird_checklist.iloc[13:,:].replace(np.NAN, '')\n",
    "    \n",
    "    return ebird_checklist\n",
    "\n",
    "\n",
    "# Function to create an ebird checklist index from a life list:\n",
    "def create_xlist(sitings, count=None):\n",
    "    \n",
    "    unique_species = {k: count for k in set(sitings)}\n",
    "    xlist = pd.concat((pd.Series(default_metadata), pd.Series(unique_species)))\n",
    "    \n",
    "    return xlist\n",
    "    \n",
    "\n",
    "# Function to split list into a dictionary of regions and species seen:    \n",
    "def split_observations_by_region(df, species_col_name, spatial_scale_col_name):\n",
    "    \n",
    "    observations_by_region = dict()\n",
    "    for region in set(df[spatial_scale_col_name]):\n",
    "        subset = df[df[spatial_scale_col_name] == region]\n",
    "        observations_by_region[region] = subset[species_col_name].values\n",
    "        \n",
    "    return observations_by_region\n",
    "\n",
    "\n",
    "# Function to transform sitings into formatted ebird checklists\n",
    "def make_regional_xlists(df, sitings_by_region, spatial_scale_col_name, species_col_name):\n",
    "    \n",
    "    xlists_by_region = list()\n",
    "    \n",
    "    # Make an empty checklist for the required empty column 2 in the ebird checklist format\n",
    "    empty_xlist = create_xlist(df[species_col_name].values, count='')\n",
    "    empty_xlist.name = ''\n",
    "    xlists_by_region.append(empty_xlist)\n",
    "    \n",
    "    for region, sitings in sitings_by_region.items():\n",
    "        xlist = create_xlist(sitings, count='x')\n",
    "        \n",
    "        if 'country' in spatial_scale_col_name.lower():\n",
    "            region_code = get_country_code(region)\n",
    "            xlist['Country'] = region_code\n",
    "        elif 'state' in spatial_scale_col_name.lower():\n",
    "            region_code = get_state_code(region)\n",
    "            xlist['Country'] = 'US'\n",
    "            xlist['State'] = region_code\n",
    "        \n",
    "        xlist.name = region \n",
    "        xlists_by_region.append(xlist)\n",
    "        \n",
    "    return xlists_by_region\n",
    "\n",
    "\n",
    "# returns ISO 3166-2 code\n",
    "def get_state_code(state_name):\n",
    "    state = us.states.lookup(state_name)\n",
    "    if state:\n",
    "        return state.abbr\n",
    "    else:\n",
    "        return None\n",
    "\n",
    "\n",
    "# returns ISO 3166-2 code\n",
    "def get_country_code(country_name):\n",
    "    try:\n",
    "        country = pycountry.countries.lookup(country_name)\n",
    "        return country.alpha_2\n",
    "    except LookupError:\n",
    "        return None  # Return None if the country was not found"
   ]
  },
  {
   "cell_type": "markdown",
   "id": "f6a8c7f6",
   "metadata": {
    "heading_collapsed": true
   },
   "source": [
    "# Import a BB Lifelist and Calculate Basic Statistics"
   ]
  },
  {
   "cell_type": "code",
   "execution_count": 3,
   "id": "01a93b94",
   "metadata": {
    "hidden": true
   },
   "outputs": [],
   "source": [
    "# Read in dad's lifelist and slap some damn labels on it:\n",
    "dads_ll = pd.read_csv(\"Exported BB7 Sightings.csv\", encoding='latin1', header=None, \n",
    "                      names=['SpeciesCode', 'CommonName', 'SciName', 'Count', 'Date', 'Country', 'State', 'County', 'City',\n",
    "                            'Site', 'Notes1', 'Notes2', 'Notes3', 'Notes4', 'Notes5', 'Notes6'])"
   ]
  },
  {
   "cell_type": "code",
   "execution_count": 4,
   "id": "663ba7b1",
   "metadata": {
    "hidden": true
   },
   "outputs": [
    {
     "data": {
      "text/plain": [
       "2541"
      ]
     },
     "execution_count": 4,
     "metadata": {},
     "output_type": "execute_result"
    }
   ],
   "source": [
    "# unique species in list:\n",
    "len(set(dads_ll['SpeciesCode']))"
   ]
  },
  {
   "cell_type": "code",
   "execution_count": 5,
   "id": "bfe04923",
   "metadata": {
    "hidden": true
   },
   "outputs": [
    {
     "name": "stdout",
     "output_type": "stream",
     "text": [
      "{'Hungary', 'USA', 'Switzerland', 'Canada', 'Czech Republic', 'Puerto Rico', 'Guatemala', 'Virgin Islands (U.S.)', 'UK', 'France', 'Austria', 'Colombia', 'Kenya', 'Italy', 'Slovakia', 'Tanzania', 'Costa Rica', 'Israel', 'Peru', 'Mexico', 'Latvia', 'Bahamas', 'Ecuador', 'Venezuela'}\n"
     ]
    },
    {
     "data": {
      "text/plain": [
       "24"
      ]
     },
     "execution_count": 5,
     "metadata": {},
     "output_type": "execute_result"
    }
   ],
   "source": [
    "# unique countries\n",
    "print(set(dads_ll['Country']))\n",
    "len(set(dads_ll['Country']))"
   ]
  },
  {
   "cell_type": "markdown",
   "id": "1948e266",
   "metadata": {
    "heading_collapsed": true
   },
   "source": [
    "# Make a Typical Life List into an Ebird Checklist"
   ]
  },
  {
   "cell_type": "code",
   "execution_count": 63,
   "id": "aea843eb",
   "metadata": {
    "hidden": true
   },
   "outputs": [],
   "source": [
    "ebird_life_list = make_ebird_xlist(dads_ll)\n",
    "ebird_life_list.loc['State', 'Virgin Islands (U.S.)'] = 'VI'\n",
    "ebird_life_list.loc['Country', 'Virgin Islands (U.S.)'] = 'US'\n",
    "ebird_life_list.loc['Country', 'UK'] = 'UK'\n",
    "\n",
    "ebird_life_list.to_csv(\"test_world_life_list.csv\")"
   ]
  },
  {
   "cell_type": "code",
   "execution_count": 64,
   "id": "f6a5930f",
   "metadata": {
    "hidden": true
   },
   "outputs": [],
   "source": [
    "us_life_list = pd.read_csv('life list - ABA (4).csv')\n",
    "us_life_list = us_life_list.replace(['California ', 'New Jersey ', 'Nebraska '], ['California', 'New Jersey', 'Nebraska'])\n",
    "us_ebird_life_list = make_ebird_xlist(us_life_list, species_col_name='Common Name', spatial_scale_col_name='State') \n",
    "\n",
    "us_ebird_life_list.to_csv(\"test_us_life_list.csv\")"
   ]
  },
  {
   "cell_type": "code",
   "execution_count": null,
   "id": "69629581",
   "metadata": {
    "hidden": true
   },
   "outputs": [],
   "source": []
  }
 ],
 "metadata": {
  "kernelspec": {
   "display_name": "Python 3 (ipykernel)",
   "language": "python",
   "name": "python3"
  },
  "language_info": {
   "codemirror_mode": {
    "name": "ipython",
    "version": 3
   },
   "file_extension": ".py",
   "mimetype": "text/x-python",
   "name": "python",
   "nbconvert_exporter": "python",
   "pygments_lexer": "ipython3",
   "version": "3.9.13"
  }
 },
 "nbformat": 4,
 "nbformat_minor": 5
}
